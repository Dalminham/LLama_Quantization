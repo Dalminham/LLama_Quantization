{
 "cells": [
  {
   "cell_type": "markdown",
   "metadata": {},
   "source": [
    "# Quantization via LLama.cpp"
   ]
  },
  {
   "cell_type": "code",
   "execution_count": 1,
   "metadata": {},
   "outputs": [],
   "source": [
    "import threading\n",
    "import subprocess"
   ]
  },
  {
   "cell_type": "code",
   "execution_count": 30,
   "metadata": {},
   "outputs": [],
   "source": [
    "# model = \"Llama-3.2-1B-Instruct-f16.gguf\"\n",
    "model = \"Llama-3.2-1B-Instruct\"\n",
    "local = \"Llama-3.2-1B-Local\"\n",
    "\n",
    "InPath = './models/' + model + \"-f16.gguf\" \n",
    "\n",
    "\n",
    "# size = 'iq3_M'\n",
    "size = 'iq3_xxs'\n",
    "# size = 'iq3_s'\n",
    "# size = 'q5_K'\n",
    "\n",
    "Outpath = './Quants_Results/' + local + \"-\" + size + \".gguf\"\n",
    "# Outpath = './Quants_Results/' + model + \"-\" + size + \".gguf\"\n",
    "\n",
    "CheckSet = './wikitext-2-raw/wiki.train.raw'\n",
    "\n",
    "IMPath = './Imatrix/Local' + model + \".imatrix\"\n",
    "\n",
    "# IMPath = \"./Imatrix/Llama-3.2-1B-Instruct.imatrix\""
   ]
  },
  {
   "cell_type": "markdown",
   "metadata": {},
   "source": [
    "## IMatrix Generation"
   ]
  },
  {
   "cell_type": "code",
   "execution_count": 25,
   "metadata": {},
   "outputs": [
    {
     "data": {
      "text/plain": [
       "CompletedProcess(args=['pkill', '-9', 'llama-imatrix'], returncode=1)"
      ]
     },
     "execution_count": 25,
     "metadata": {},
     "output_type": "execute_result"
    }
   ],
   "source": [
    "# pkill -9 llama-server\n",
    "subprocess.run(['pkill', '-9', 'llama-imatrix'])"
   ]
  },
  {
   "cell_type": "code",
   "execution_count": 29,
   "metadata": {},
   "outputs": [
    {
     "name": "stderr",
     "output_type": "stream",
     "text": [
      "ggml_cuda_init: GGML_CUDA_FORCE_MMQ:    no\n",
      "ggml_cuda_init: GGML_CUDA_FORCE_CUBLAS: no\n",
      "ggml_cuda_init: found 1 CUDA devices:\n",
      "  Device 0: NVIDIA GeForce RTX 4080, compute capability 8.9, VMM: yes\n",
      "build: 4302 (43041d2e) with cc (Ubuntu 11.4.0-1ubuntu1~22.04) 11.4.0 for x86_64-linux-gnu\n",
      "llama_load_model_from_file: using device CUDA0 (NVIDIA GeForce RTX 4080) - 15615 MiB free\n",
      "llama_model_loader: loaded meta data with 31 key-value pairs and 147 tensors from ./models/Llama-3.2-1B-Instruct-f16.gguf (version GGUF V3 (latest))\n",
      "llama_model_loader: Dumping metadata keys/values. Note: KV overrides do not apply in this output.\n",
      "llama_model_loader: - kv   0:                       general.architecture str              = llama\n",
      "llama_model_loader: - kv   1:                               general.type str              = model\n",
      "llama_model_loader: - kv   2:                               general.name str              = Llama 3.2 1B Instruct\n",
      "llama_model_loader: - kv   3:                           general.finetune str              = Instruct\n",
      "llama_model_loader: - kv   4:                           general.basename str              = Llama-3.2\n",
      "llama_model_loader: - kv   5:                         general.size_label str              = 1B\n",
      "llama_model_loader: - kv   6:                            general.license str              = llama3.2\n",
      "llama_model_loader: - kv   7:                               general.tags arr[str,6]       = [\"facebook\", \"meta\", \"pytorch\", \"llam...\n",
      "llama_model_loader: - kv   8:                          general.languages arr[str,8]       = [\"en\", \"de\", \"fr\", \"it\", \"pt\", \"hi\", ...\n",
      "llama_model_loader: - kv   9:                          llama.block_count u32              = 16\n",
      "llama_model_loader: - kv  10:                       llama.context_length u32              = 131072\n",
      "llama_model_loader: - kv  11:                     llama.embedding_length u32              = 2048\n",
      "llama_model_loader: - kv  12:                  llama.feed_forward_length u32              = 8192\n",
      "llama_model_loader: - kv  13:                 llama.attention.head_count u32              = 32\n",
      "llama_model_loader: - kv  14:              llama.attention.head_count_kv u32              = 8\n",
      "llama_model_loader: - kv  15:                       llama.rope.freq_base f32              = 500000.000000\n",
      "llama_model_loader: - kv  16:     llama.attention.layer_norm_rms_epsilon f32              = 0.000010\n",
      "llama_model_loader: - kv  17:                 llama.attention.key_length u32              = 64\n",
      "llama_model_loader: - kv  18:               llama.attention.value_length u32              = 64\n",
      "llama_model_loader: - kv  19:                          general.file_type u32              = 1\n",
      "llama_model_loader: - kv  20:                           llama.vocab_size u32              = 128256\n",
      "llama_model_loader: - kv  21:                 llama.rope.dimension_count u32              = 64\n",
      "llama_model_loader: - kv  22:                       tokenizer.ggml.model str              = gpt2\n",
      "llama_model_loader: - kv  23:                         tokenizer.ggml.pre str              = llama-bpe\n",
      "llama_model_loader: - kv  24:                      tokenizer.ggml.tokens arr[str,128256]  = [\"!\", \"\\\"\", \"#\", \"$\", \"%\", \"&\", \"'\", ...\n",
      "llama_model_loader: - kv  25:                  tokenizer.ggml.token_type arr[i32,128256]  = [1, 1, 1, 1, 1, 1, 1, 1, 1, 1, 1, 1, ...\n",
      "llama_model_loader: - kv  26:                      tokenizer.ggml.merges arr[str,280147]  = [\"Ġ Ġ\", \"Ġ ĠĠĠ\", \"ĠĠ ĠĠ\", \"...\n",
      "llama_model_loader: - kv  27:                tokenizer.ggml.bos_token_id u32              = 128000\n",
      "llama_model_loader: - kv  28:                tokenizer.ggml.eos_token_id u32              = 128009\n",
      "llama_model_loader: - kv  29:                    tokenizer.chat_template str              = {{- bos_token }}\\n{%- if custom_tools ...\n",
      "llama_model_loader: - kv  30:               general.quantization_version u32              = 2\n",
      "llama_model_loader: - type  f32:   34 tensors\n",
      "llama_model_loader: - type  f16:  113 tensors\n",
      "llm_load_vocab: special tokens cache size = 256\n",
      "llm_load_vocab: token to piece cache size = 0.7999 MB\n",
      "llm_load_print_meta: format           = GGUF V3 (latest)\n",
      "llm_load_print_meta: arch             = llama\n",
      "llm_load_print_meta: vocab type       = BPE\n",
      "llm_load_print_meta: n_vocab          = 128256\n",
      "llm_load_print_meta: n_merges         = 280147\n",
      "llm_load_print_meta: vocab_only       = 0\n",
      "llm_load_print_meta: n_ctx_train      = 131072\n",
      "llm_load_print_meta: n_embd           = 2048\n",
      "llm_load_print_meta: n_layer          = 16\n",
      "llm_load_print_meta: n_head           = 32\n",
      "llm_load_print_meta: n_head_kv        = 8\n",
      "llm_load_print_meta: n_rot            = 64\n",
      "llm_load_print_meta: n_swa            = 0\n",
      "llm_load_print_meta: n_embd_head_k    = 64\n",
      "llm_load_print_meta: n_embd_head_v    = 64\n",
      "llm_load_print_meta: n_gqa            = 4\n",
      "llm_load_print_meta: n_embd_k_gqa     = 512\n",
      "llm_load_print_meta: n_embd_v_gqa     = 512\n",
      "llm_load_print_meta: f_norm_eps       = 0.0e+00\n",
      "llm_load_print_meta: f_norm_rms_eps   = 1.0e-05\n",
      "llm_load_print_meta: f_clamp_kqv      = 0.0e+00\n",
      "llm_load_print_meta: f_max_alibi_bias = 0.0e+00\n",
      "llm_load_print_meta: f_logit_scale    = 0.0e+00\n",
      "llm_load_print_meta: n_ff             = 8192\n",
      "llm_load_print_meta: n_expert         = 0\n",
      "llm_load_print_meta: n_expert_used    = 0\n",
      "llm_load_print_meta: causal attn      = 1\n",
      "llm_load_print_meta: pooling type     = 0\n",
      "llm_load_print_meta: rope type        = 0\n",
      "llm_load_print_meta: rope scaling     = linear\n",
      "llm_load_print_meta: freq_base_train  = 500000.0\n",
      "llm_load_print_meta: freq_scale_train = 1\n",
      "llm_load_print_meta: n_ctx_orig_yarn  = 131072\n",
      "llm_load_print_meta: rope_finetuned   = unknown\n",
      "llm_load_print_meta: ssm_d_conv       = 0\n",
      "llm_load_print_meta: ssm_d_inner      = 0\n",
      "llm_load_print_meta: ssm_d_state      = 0\n",
      "llm_load_print_meta: ssm_dt_rank      = 0\n",
      "llm_load_print_meta: ssm_dt_b_c_rms   = 0\n",
      "llm_load_print_meta: model type       = 1B\n",
      "llm_load_print_meta: model ftype      = F16\n",
      "llm_load_print_meta: model params     = 1.24 B\n",
      "llm_load_print_meta: model size       = 2.30 GiB (16.00 BPW) \n",
      "llm_load_print_meta: general.name     = Llama 3.2 1B Instruct\n",
      "llm_load_print_meta: BOS token        = 128000 '<|begin_of_text|>'\n",
      "llm_load_print_meta: EOS token        = 128009 '<|eot_id|>'\n",
      "llm_load_print_meta: EOT token        = 128009 '<|eot_id|>'\n",
      "llm_load_print_meta: EOM token        = 128008 '<|eom_id|>'\n",
      "llm_load_print_meta: LF token         = 128 'Ä'\n",
      "llm_load_print_meta: EOG token        = 128008 '<|eom_id|>'\n",
      "llm_load_print_meta: EOG token        = 128009 '<|eot_id|>'\n",
      "llm_load_print_meta: max token length = 256\n",
      "llm_load_tensors: offloading 0 repeating layers to GPU\n",
      "llm_load_tensors: offloaded 0/17 layers to GPU\n",
      "llm_load_tensors:   CPU_Mapped model buffer size =  2357.26 MiB\n",
      "..............................................................\n",
      "llama_new_context_with_model: n_seq_max     = 1\n",
      "llama_new_context_with_model: n_ctx         = 512\n",
      "llama_new_context_with_model: n_ctx_per_seq = 512\n",
      "llama_new_context_with_model: n_batch       = 512\n",
      "llama_new_context_with_model: n_ubatch      = 512\n",
      "llama_new_context_with_model: flash_attn    = 0\n",
      "llama_new_context_with_model: freq_base     = 500000.0\n",
      "llama_new_context_with_model: freq_scale    = 1\n",
      "llama_new_context_with_model: n_ctx_per_seq (512) < n_ctx_train (131072) -- the full capacity of the model will not be utilized\n",
      "llama_kv_cache_init:        CPU KV buffer size =    16.00 MiB\n",
      "llama_new_context_with_model: KV self size  =   16.00 MiB, K (f16):    8.00 MiB, V (f16):    8.00 MiB\n",
      "llama_new_context_with_model:        CPU  output buffer size =     0.49 MiB\n",
      "llama_new_context_with_model:      CUDA0 compute buffer size =   755.50 MiB\n",
      "llama_new_context_with_model:  CUDA_Host compute buffer size =     5.01 MiB\n",
      "llama_new_context_with_model: graph nodes  = 518\n",
      "llama_new_context_with_model: graph splits = 181 (with bs=512), 1 (with bs=1)\n",
      "\n",
      "system_info: n_threads = 8 (n_threads_batch = 8) / 24 | CUDA : ARCHS = 520,610,700,750 | USE_GRAPHS = 1 | PEER_MAX_BATCH_SIZE = 128 | CPU : SSE3 = 1 | SSSE3 = 1 | AVX = 1 | AVX_VNNI = 1 | AVX2 = 1 | F16C = 1 | FMA = 1 | LLAMAFILE = 1 | OPENMP = 1 | AARCH64_REPACK = 1 | \n",
      "compute_imatrix: tokenizing the input ..\n",
      "compute_imatrix: tokenization took 1365.63 ms\n",
      "compute_imatrix: computing over 100 chunks with batch_size 512\n",
      "compute_imatrix: 0.82 seconds per pass - ETA "
     ]
    },
    {
     "name": "stdout",
     "output_type": "stream",
     "text": [
      "1.37 minutes\n",
      "[1]15.1201,[2]18.9480,[3]19.4474,[4]17.2411,[5]17.5818,[6]17.3107,[7]19.1012,[8]19.2295,[9]17.6346,[10]17.0065,[11]17.2312,[12]17.6302,[13]17.6375,[14]17.6219,[15]17.8820,[16]18.2187,[17]17.6149,[18]17.1954,[19]16.9376,[20]16.8851,[21]17.2211,[22]17.5429,[23]17.5781,[24]16.8907,[25]16.5682,[26]16.2347,[27]16.0061,[28]15.7311,[29]15.7655,[30]15.4445,[31]15.4250,[32]15.2934,[33]15.1217,[34]14.9768,[35]14.9606,[36]14.8360,[37]14.7611,[38]14.6052,[39]14.4224,[40]14.4777,[41]14.5971,[42]14.7379,[43]14.8137,[44]14.8832,[45]14.7650,[46]14.5526,[47]14.4753,[48]14.5422,[49]14.3856,[50]14.3837,[51]14.5146,[52]14.5924,[53]14.6190,[54]14.4762,[55]14.5545,[56]14.5237,[57]14.5250,[58]14.5834,[59]14.5818,[60]14.4580,[61]14.3531,[62]14.2936,[63]14.2376,[64]14.1716,[65]14.1455,[66]14.0452,[67]13.9728,[68]13.8503,[69]13.9172,[70]13.9497,[71]13.9641,[72]14.0078,[73]14.0193,[74]14.0820,[75]14.1328,[76]14.1664,[77]14.1966,[78]14.2928,[79]14.3325,[80]14.3717,[81]14.3154,[82]14.3806,[83]14.4176,[84]14.4986,[85]14.5487,[86]14.6170,[87]14.7055,[88]14.7915,[89]14.8499,[90]14.8456,[91]14.8442,[92]14.8811,[93]14.8496,[94]14.9946,[95]15.0891,[96]15.1428,[97]15.1349,[98]15.1258,[99]15.0610,[100]15.0393,\n",
      "Final estimate: PPL = 15.0393 +/- 0.26505\n",
      "\n"
     ]
    },
    {
     "name": "stderr",
     "output_type": "stream",
     "text": [
      "llama_perf_context_print:        load time =    2448.84 ms\n",
      "llama_perf_context_print: prompt eval time =   37706.76 ms / 51200 tokens (    0.74 ms per token,  1357.85 tokens per second)\n",
      "llama_perf_context_print:        eval time =       0.00 ms /     1 runs   (    0.00 ms per token,      inf tokens per second)\n",
      "llama_perf_context_print:       total time =   40081.85 ms / 51201 tokens\n"
     ]
    },
    {
     "data": {
      "text/plain": [
       "CompletedProcess(args=['/home/weiyijian/Desktop/llama.cpp/cuda-build/bin/llama-imatrix', '-m', './models/Llama-3.2-1B-Instruct-f16.gguf', '-f', './wikitext-2-raw/wiki.train.raw', '-o', './Imatrix/LocalLlama-3.2-1B-Instruct.imatrix', '--chunks', '100'], returncode=0)"
      ]
     },
     "execution_count": 29,
     "metadata": {},
     "output_type": "execute_result"
    }
   ],
   "source": [
    "# ./imatrix -m some_model -f some_training_data -o imatrix_some_model.dat --chunks 100\n",
    "subprocess.run([\n",
    "    #'/home/weiyijian/Desktop/LocalLlama/llama.cpp/cuda-build/bin/llama-imatrix',\n",
    "    '/home/weiyijian/Desktop/llama.cpp/cuda-build/bin/llama-imatrix',\n",
    "    '-m', InPath,\n",
    "    '-f', CheckSet,\n",
    "    '-o', IMPath,\n",
    "    '--chunks', '100'\n",
    "])"
   ]
  },
  {
   "cell_type": "markdown",
   "metadata": {},
   "source": [
    "## Quantization "
   ]
  },
  {
   "cell_type": "code",
   "execution_count": 3,
   "metadata": {},
   "outputs": [
    {
     "data": {
      "text/plain": [
       "CompletedProcess(args=['pkill', '-9', 'llama-quantize'], returncode=1)"
      ]
     },
     "execution_count": 3,
     "metadata": {},
     "output_type": "execute_result"
    }
   ],
   "source": [
    "# pkill -9 llama-server\n",
    "subprocess.run(['pkill', '-9', 'llama-quantize'])"
   ]
  },
  {
   "cell_type": "code",
   "execution_count": 31,
   "metadata": {},
   "outputs": [
    {
     "name": "stderr",
     "output_type": "stream",
     "text": [
      "main: build = 3887 (8c475b97)\n",
      "main: built with cc (Ubuntu 11.4.0-1ubuntu1~22.04) 11.4.0 for x86_64-linux-gnu\n",
      "main: quantizing './models/Llama-3.2-1B-Instruct-f16.gguf' to './Quants_Results/Llama-3.2-1B-Local-iq3_xxs.gguf' as IQ3_XXS\n",
      "llama_model_loader: loaded meta data with 31 key-value pairs and 147 tensors from ./models/Llama-3.2-1B-Instruct-f16.gguf (version GGUF V3 (latest))\n",
      "llama_model_loader: Dumping metadata keys/values. Note: KV overrides do not apply in this output.\n",
      "llama_model_loader: - kv   0:                       general.architecture str              = llama\n",
      "llama_model_loader: - kv   1:                               general.type str              = model\n",
      "llama_model_loader: - kv   2:                               general.name str              = Llama 3.2 1B Instruct\n",
      "llama_model_loader: - kv   3:                           general.finetune str              = Instruct\n",
      "llama_model_loader: - kv   4:                           general.basename str              = Llama-3.2\n",
      "llama_model_loader: - kv   5:                         general.size_label str              = 1B\n",
      "llama_model_loader: - kv   6:                            general.license str              = llama3.2\n",
      "llama_model_loader: - kv   7:                               general.tags arr[str,6]       = [\"facebook\", \"meta\", \"pytorch\", \"llam...\n",
      "llama_model_loader: - kv   8:                          general.languages arr[str,8]       = [\"en\", \"de\", \"fr\", \"it\", \"pt\", \"hi\", ...\n",
      "llama_model_loader: - kv   9:                          llama.block_count u32              = 16\n",
      "llama_model_loader: - kv  10:                       llama.context_length u32              = 131072\n",
      "llama_model_loader: - kv  11:                     llama.embedding_length u32              = 2048\n",
      "llama_model_loader: - kv  12:                  llama.feed_forward_length u32              = 8192\n",
      "llama_model_loader: - kv  13:                 llama.attention.head_count u32              = 32\n",
      "llama_model_loader: - kv  14:              llama.attention.head_count_kv u32              = 8\n",
      "llama_model_loader: - kv  15:                       llama.rope.freq_base f32              = 500000.000000\n",
      "llama_model_loader: - kv  16:     llama.attention.layer_norm_rms_epsilon f32              = 0.000010\n",
      "llama_model_loader: - kv  17:                 llama.attention.key_length u32              = 64\n",
      "llama_model_loader: - kv  18:               llama.attention.value_length u32              = 64\n",
      "llama_model_loader: - kv  19:                          general.file_type u32              = 1\n",
      "llama_model_loader: - kv  20:                           llama.vocab_size u32              = 128256\n",
      "llama_model_loader: - kv  21:                 llama.rope.dimension_count u32              = 64\n",
      "llama_model_loader: - kv  22:                       tokenizer.ggml.model str              = gpt2\n",
      "llama_model_loader: - kv  23:                         tokenizer.ggml.pre str              = llama-bpe\n",
      "llama_model_loader: - kv  24:                      tokenizer.ggml.tokens arr[str,128256]  = [\"!\", \"\\\"\", \"#\", \"$\", \"%\", \"&\", \"'\", ...\n",
      "llama_model_loader: - kv  25:                  tokenizer.ggml.token_type arr[i32,128256]  = [1, 1, 1, 1, 1, 1, 1, 1, 1, 1, 1, 1, ...\n",
      "llama_model_loader: - kv  26:                      tokenizer.ggml.merges arr[str,280147]  = [\"Ġ Ġ\", \"Ġ ĠĠĠ\", \"ĠĠ ĠĠ\", \"...\n",
      "llama_model_loader: - kv  27:                tokenizer.ggml.bos_token_id u32              = 128000\n",
      "llama_model_loader: - kv  28:                tokenizer.ggml.eos_token_id u32              = 128009\n",
      "llama_model_loader: - kv  29:                    tokenizer.chat_template str              = {{- bos_token }}\\n{%- if custom_tools ...\n",
      "llama_model_loader: - kv  30:               general.quantization_version u32              = 2\n",
      "llama_model_loader: - type  f32:   34 tensors\n",
      "llama_model_loader: - type  f16:  113 tensors\n",
      "================================ Have weights data with 112 entries\n",
      "[   1/ 147]                    rope_freqs.weight - [   32,     1,     1,     1], type =    f32, size =    0.000 MB\n",
      "[   2/ 147]                    token_embd.weight - [ 2048, 128256,     1,     1], type =    f16, \n",
      "====== llama_model_quantize_internal: did not find weights for token_embd.weight\n",
      "converting to q5_K .. "
     ]
    },
    {
     "name": "stdout",
     "output_type": "stream",
     "text": [
      "load_imatrix: imatrix dataset='./wikitext-2-raw/wiki.train.raw'\n",
      "load_imatrix: loaded 112 importance matrix entries from ./Imatrix/LocalLlama-3.2-1B-Instruct.imatrix computed on 100 chunks\n",
      "prepare_imatrix: have 112 importance matrix entries\n"
     ]
    },
    {
     "name": "stderr",
     "output_type": "stream",
     "text": [
      "size =   501.00 MiB ->   172.22 MiB\n",
      "[   3/ 147]               blk.0.attn_norm.weight - [ 2048,     1,     1,     1], type =    f32, size =    0.008 MB\n",
      "[   4/ 147]                blk.0.ffn_down.weight - [ 8192,  2048,     1,     1], type =    f16, converting to iq3_xxs .. size =    32.00 MiB ->     6.12 MiB\n",
      "[   5/ 147]                blk.0.ffn_gate.weight - [ 2048,  8192,     1,     1], type =    f16, converting to iq3_xxs .. size =    32.00 MiB ->     6.12 MiB\n",
      "[   6/ 147]                  blk.0.ffn_up.weight - [ 2048,  8192,     1,     1], type =    f16, converting to iq3_xxs .. size =    32.00 MiB ->     6.12 MiB\n",
      "[   7/ 147]                blk.0.ffn_norm.weight - [ 2048,     1,     1,     1], type =    f32, size =    0.008 MB\n",
      "[   8/ 147]                  blk.0.attn_k.weight - [ 2048,   512,     1,     1], type =    f16, converting to iq2_s .. size =     2.00 MiB ->     0.32 MiB\n",
      "[   9/ 147]             blk.0.attn_output.weight - [ 2048,  2048,     1,     1], type =    f16, converting to iq3_s .. size =     8.00 MiB ->     1.72 MiB\n",
      "[  10/ 147]                  blk.0.attn_q.weight - [ 2048,  2048,     1,     1], type =    f16, converting to iq2_s .. size =     8.00 MiB ->     1.28 MiB\n",
      "[  11/ 147]                  blk.0.attn_v.weight - [ 2048,   512,     1,     1], type =    f16, converting to q4_K .. size =     2.00 MiB ->     0.56 MiB\n",
      "[  12/ 147]               blk.1.attn_norm.weight - [ 2048,     1,     1,     1], type =    f32, size =    0.008 MB\n",
      "[  13/ 147]                blk.1.ffn_down.weight - [ 8192,  2048,     1,     1], type =    f16, converting to iq3_xxs .. size =    32.00 MiB ->     6.12 MiB\n",
      "[  14/ 147]                blk.1.ffn_gate.weight - [ 2048,  8192,     1,     1], type =    f16, converting to iq3_xxs .. size =    32.00 MiB ->     6.12 MiB\n",
      "[  15/ 147]                  blk.1.ffn_up.weight - [ 2048,  8192,     1,     1], type =    f16, converting to iq3_xxs .. size =    32.00 MiB ->     6.12 MiB\n",
      "[  16/ 147]                blk.1.ffn_norm.weight - [ 2048,     1,     1,     1], type =    f32, size =    0.008 MB\n",
      "[  17/ 147]                  blk.1.attn_k.weight - [ 2048,   512,     1,     1], type =    f16, converting to iq2_s .. size =     2.00 MiB ->     0.32 MiB\n",
      "[  18/ 147]             blk.1.attn_output.weight - [ 2048,  2048,     1,     1], type =    f16, converting to iq3_s .. size =     8.00 MiB ->     1.72 MiB\n",
      "[  19/ 147]                  blk.1.attn_q.weight - [ 2048,  2048,     1,     1], type =    f16, converting to iq2_s .. size =     8.00 MiB ->     1.28 MiB\n",
      "[  20/ 147]                  blk.1.attn_v.weight - [ 2048,   512,     1,     1], type =    f16, converting to q4_K .. size =     2.00 MiB ->     0.56 MiB\n",
      "[  21/ 147]              blk.10.attn_norm.weight - [ 2048,     1,     1,     1], type =    f32, size =    0.008 MB\n",
      "[  22/ 147]               blk.10.ffn_down.weight - [ 8192,  2048,     1,     1], type =    f16, converting to iq3_xxs .. size =    32.00 MiB ->     6.12 MiB\n",
      "[  23/ 147]               blk.10.ffn_gate.weight - [ 2048,  8192,     1,     1], type =    f16, converting to iq3_xxs .. size =    32.00 MiB ->     6.12 MiB\n",
      "[  24/ 147]                 blk.10.ffn_up.weight - [ 2048,  8192,     1,     1], type =    f16, converting to iq3_xxs .. size =    32.00 MiB ->     6.12 MiB\n",
      "[  25/ 147]               blk.10.ffn_norm.weight - [ 2048,     1,     1,     1], type =    f32, size =    0.008 MB\n",
      "[  26/ 147]                 blk.10.attn_k.weight - [ 2048,   512,     1,     1], type =    f16, converting to iq2_s .. size =     2.00 MiB ->     0.32 MiB\n",
      "[  27/ 147]            blk.10.attn_output.weight - [ 2048,  2048,     1,     1], type =    f16, converting to iq3_s .. size =     8.00 MiB ->     1.72 MiB\n",
      "[  28/ 147]                 blk.10.attn_q.weight - [ 2048,  2048,     1,     1], type =    f16, converting to iq2_s .. size =     8.00 MiB ->     1.28 MiB\n",
      "[  29/ 147]                 blk.10.attn_v.weight - [ 2048,   512,     1,     1], type =    f16, converting to q4_K .. size =     2.00 MiB ->     0.56 MiB\n",
      "[  30/ 147]              blk.11.attn_norm.weight - [ 2048,     1,     1,     1], type =    f32, size =    0.008 MB\n",
      "[  31/ 147]               blk.11.ffn_down.weight - [ 8192,  2048,     1,     1], type =    f16, converting to iq3_xxs .. size =    32.00 MiB ->     6.12 MiB\n",
      "[  32/ 147]               blk.11.ffn_gate.weight - [ 2048,  8192,     1,     1], type =    f16, converting to iq3_xxs .. size =    32.00 MiB ->     6.12 MiB\n",
      "[  33/ 147]                 blk.11.ffn_up.weight - [ 2048,  8192,     1,     1], type =    f16, converting to iq3_xxs .. size =    32.00 MiB ->     6.12 MiB\n",
      "[  34/ 147]               blk.11.ffn_norm.weight - [ 2048,     1,     1,     1], type =    f32, size =    0.008 MB\n",
      "[  35/ 147]                 blk.11.attn_k.weight - [ 2048,   512,     1,     1], type =    f16, converting to iq2_s .. size =     2.00 MiB ->     0.32 MiB\n",
      "[  36/ 147]            blk.11.attn_output.weight - [ 2048,  2048,     1,     1], type =    f16, converting to iq3_s .. size =     8.00 MiB ->     1.72 MiB\n",
      "[  37/ 147]                 blk.11.attn_q.weight - [ 2048,  2048,     1,     1], type =    f16, converting to iq2_s .. size =     8.00 MiB ->     1.28 MiB\n",
      "[  38/ 147]                 blk.11.attn_v.weight - [ 2048,   512,     1,     1], type =    f16, converting to q4_K .. size =     2.00 MiB ->     0.56 MiB\n",
      "[  39/ 147]              blk.12.attn_norm.weight - [ 2048,     1,     1,     1], type =    f32, size =    0.008 MB\n",
      "[  40/ 147]               blk.12.ffn_down.weight - [ 8192,  2048,     1,     1], type =    f16, converting to iq3_xxs .. size =    32.00 MiB ->     6.12 MiB\n",
      "[  41/ 147]               blk.12.ffn_gate.weight - [ 2048,  8192,     1,     1], type =    f16, converting to iq3_xxs .. size =    32.00 MiB ->     6.12 MiB\n",
      "[  42/ 147]                 blk.12.ffn_up.weight - [ 2048,  8192,     1,     1], type =    f16, converting to iq3_xxs .. size =    32.00 MiB ->     6.12 MiB\n",
      "[  43/ 147]               blk.12.ffn_norm.weight - [ 2048,     1,     1,     1], type =    f32, size =    0.008 MB\n",
      "[  44/ 147]                 blk.12.attn_k.weight - [ 2048,   512,     1,     1], type =    f16, converting to iq2_s .. size =     2.00 MiB ->     0.32 MiB\n",
      "[  45/ 147]            blk.12.attn_output.weight - [ 2048,  2048,     1,     1], type =    f16, converting to iq3_s .. size =     8.00 MiB ->     1.72 MiB\n",
      "[  46/ 147]                 blk.12.attn_q.weight - [ 2048,  2048,     1,     1], type =    f16, converting to iq2_s .. size =     8.00 MiB ->     1.28 MiB\n",
      "[  47/ 147]                 blk.12.attn_v.weight - [ 2048,   512,     1,     1], type =    f16, converting to q4_K .. size =     2.00 MiB ->     0.56 MiB\n",
      "[  48/ 147]              blk.13.attn_norm.weight - [ 2048,     1,     1,     1], type =    f32, size =    0.008 MB\n",
      "[  49/ 147]               blk.13.ffn_down.weight - [ 8192,  2048,     1,     1], type =    f16, converting to iq3_xxs .. size =    32.00 MiB ->     6.12 MiB\n",
      "[  50/ 147]               blk.13.ffn_gate.weight - [ 2048,  8192,     1,     1], type =    f16, converting to iq3_xxs .. size =    32.00 MiB ->     6.12 MiB\n",
      "[  51/ 147]                 blk.13.ffn_up.weight - [ 2048,  8192,     1,     1], type =    f16, converting to iq3_xxs .. size =    32.00 MiB ->     6.12 MiB\n",
      "[  52/ 147]               blk.13.ffn_norm.weight - [ 2048,     1,     1,     1], type =    f32, size =    0.008 MB\n",
      "[  53/ 147]                 blk.13.attn_k.weight - [ 2048,   512,     1,     1], type =    f16, converting to iq2_s .. size =     2.00 MiB ->     0.32 MiB\n",
      "[  54/ 147]            blk.13.attn_output.weight - [ 2048,  2048,     1,     1], type =    f16, converting to iq3_s .. size =     8.00 MiB ->     1.72 MiB\n",
      "[  55/ 147]                 blk.13.attn_q.weight - [ 2048,  2048,     1,     1], type =    f16, converting to iq2_s .. size =     8.00 MiB ->     1.28 MiB\n",
      "[  56/ 147]                 blk.13.attn_v.weight - [ 2048,   512,     1,     1], type =    f16, converting to q4_K .. size =     2.00 MiB ->     0.56 MiB\n",
      "[  57/ 147]              blk.14.attn_norm.weight - [ 2048,     1,     1,     1], type =    f32, size =    0.008 MB\n",
      "[  58/ 147]               blk.14.ffn_down.weight - [ 8192,  2048,     1,     1], type =    f16, converting to iq3_xxs .. size =    32.00 MiB ->     6.12 MiB\n",
      "[  59/ 147]               blk.14.ffn_gate.weight - [ 2048,  8192,     1,     1], type =    f16, converting to iq3_xxs .. size =    32.00 MiB ->     6.12 MiB\n",
      "[  60/ 147]                 blk.14.ffn_up.weight - [ 2048,  8192,     1,     1], type =    f16, converting to iq3_xxs .. size =    32.00 MiB ->     6.12 MiB\n",
      "[  61/ 147]               blk.14.ffn_norm.weight - [ 2048,     1,     1,     1], type =    f32, size =    0.008 MB\n",
      "[  62/ 147]                 blk.14.attn_k.weight - [ 2048,   512,     1,     1], type =    f16, converting to iq2_s .. size =     2.00 MiB ->     0.32 MiB\n",
      "[  63/ 147]            blk.14.attn_output.weight - [ 2048,  2048,     1,     1], type =    f16, converting to iq3_s .. size =     8.00 MiB ->     1.72 MiB\n",
      "[  64/ 147]                 blk.14.attn_q.weight - [ 2048,  2048,     1,     1], type =    f16, converting to iq2_s .. size =     8.00 MiB ->     1.28 MiB\n",
      "[  65/ 147]                 blk.14.attn_v.weight - [ 2048,   512,     1,     1], type =    f16, converting to q4_K .. size =     2.00 MiB ->     0.56 MiB\n",
      "[  66/ 147]              blk.15.attn_norm.weight - [ 2048,     1,     1,     1], type =    f32, size =    0.008 MB\n",
      "[  67/ 147]               blk.15.ffn_down.weight - [ 8192,  2048,     1,     1], type =    f16, converting to iq3_xxs .. size =    32.00 MiB ->     6.12 MiB\n",
      "[  68/ 147]               blk.15.ffn_gate.weight - [ 2048,  8192,     1,     1], type =    f16, converting to iq3_xxs .. size =    32.00 MiB ->     6.12 MiB\n",
      "[  69/ 147]                 blk.15.ffn_up.weight - [ 2048,  8192,     1,     1], type =    f16, converting to iq3_xxs .. size =    32.00 MiB ->     6.12 MiB\n",
      "[  70/ 147]               blk.15.ffn_norm.weight - [ 2048,     1,     1,     1], type =    f32, size =    0.008 MB\n",
      "[  71/ 147]                 blk.15.attn_k.weight - [ 2048,   512,     1,     1], type =    f16, converting to iq2_s .. size =     2.00 MiB ->     0.32 MiB\n",
      "[  72/ 147]            blk.15.attn_output.weight - [ 2048,  2048,     1,     1], type =    f16, converting to iq3_s .. size =     8.00 MiB ->     1.72 MiB\n",
      "[  73/ 147]                 blk.15.attn_q.weight - [ 2048,  2048,     1,     1], type =    f16, converting to iq2_s .. size =     8.00 MiB ->     1.28 MiB\n",
      "[  74/ 147]                 blk.15.attn_v.weight - [ 2048,   512,     1,     1], type =    f16, converting to q4_K .. size =     2.00 MiB ->     0.56 MiB\n",
      "[  75/ 147]               blk.2.attn_norm.weight - [ 2048,     1,     1,     1], type =    f32, size =    0.008 MB\n",
      "[  76/ 147]                blk.2.ffn_down.weight - [ 8192,  2048,     1,     1], type =    f16, converting to iq3_xxs .. size =    32.00 MiB ->     6.12 MiB\n",
      "[  77/ 147]                blk.2.ffn_gate.weight - [ 2048,  8192,     1,     1], type =    f16, converting to iq3_xxs .. size =    32.00 MiB ->     6.12 MiB\n",
      "[  78/ 147]                  blk.2.ffn_up.weight - [ 2048,  8192,     1,     1], type =    f16, converting to iq3_xxs .. size =    32.00 MiB ->     6.12 MiB\n",
      "[  79/ 147]                blk.2.ffn_norm.weight - [ 2048,     1,     1,     1], type =    f32, size =    0.008 MB\n",
      "[  80/ 147]                  blk.2.attn_k.weight - [ 2048,   512,     1,     1], type =    f16, converting to iq2_s .. size =     2.00 MiB ->     0.32 MiB\n",
      "[  81/ 147]             blk.2.attn_output.weight - [ 2048,  2048,     1,     1], type =    f16, converting to iq3_s .. size =     8.00 MiB ->     1.72 MiB\n",
      "[  82/ 147]                  blk.2.attn_q.weight - [ 2048,  2048,     1,     1], type =    f16, converting to iq2_s .. size =     8.00 MiB ->     1.28 MiB\n",
      "[  83/ 147]                  blk.2.attn_v.weight - [ 2048,   512,     1,     1], type =    f16, converting to q4_K .. size =     2.00 MiB ->     0.56 MiB\n",
      "[  84/ 147]               blk.3.attn_norm.weight - [ 2048,     1,     1,     1], type =    f32, size =    0.008 MB\n",
      "[  85/ 147]                blk.3.ffn_down.weight - [ 8192,  2048,     1,     1], type =    f16, converting to iq3_xxs .. size =    32.00 MiB ->     6.12 MiB\n",
      "[  86/ 147]                blk.3.ffn_gate.weight - [ 2048,  8192,     1,     1], type =    f16, converting to iq3_xxs .. size =    32.00 MiB ->     6.12 MiB\n",
      "[  87/ 147]                  blk.3.ffn_up.weight - [ 2048,  8192,     1,     1], type =    f16, converting to iq3_xxs .. size =    32.00 MiB ->     6.12 MiB\n",
      "[  88/ 147]                blk.3.ffn_norm.weight - [ 2048,     1,     1,     1], type =    f32, size =    0.008 MB\n",
      "[  89/ 147]                  blk.3.attn_k.weight - [ 2048,   512,     1,     1], type =    f16, converting to iq2_s .. size =     2.00 MiB ->     0.32 MiB\n",
      "[  90/ 147]             blk.3.attn_output.weight - [ 2048,  2048,     1,     1], type =    f16, converting to iq3_s .. size =     8.00 MiB ->     1.72 MiB\n",
      "[  91/ 147]                  blk.3.attn_q.weight - [ 2048,  2048,     1,     1], type =    f16, converting to iq2_s .. size =     8.00 MiB ->     1.28 MiB\n",
      "[  92/ 147]                  blk.3.attn_v.weight - [ 2048,   512,     1,     1], type =    f16, converting to q4_K .. size =     2.00 MiB ->     0.56 MiB\n",
      "[  93/ 147]               blk.4.attn_norm.weight - [ 2048,     1,     1,     1], type =    f32, size =    0.008 MB\n",
      "[  94/ 147]                blk.4.ffn_down.weight - [ 8192,  2048,     1,     1], type =    f16, converting to iq3_xxs .. size =    32.00 MiB ->     6.12 MiB\n",
      "[  95/ 147]                blk.4.ffn_gate.weight - [ 2048,  8192,     1,     1], type =    f16, converting to iq3_xxs .. size =    32.00 MiB ->     6.12 MiB\n",
      "[  96/ 147]                  blk.4.ffn_up.weight - [ 2048,  8192,     1,     1], type =    f16, converting to iq3_xxs .. size =    32.00 MiB ->     6.12 MiB\n",
      "[  97/ 147]                blk.4.ffn_norm.weight - [ 2048,     1,     1,     1], type =    f32, size =    0.008 MB\n",
      "[  98/ 147]                  blk.4.attn_k.weight - [ 2048,   512,     1,     1], type =    f16, converting to iq2_s .. size =     2.00 MiB ->     0.32 MiB\n",
      "[  99/ 147]             blk.4.attn_output.weight - [ 2048,  2048,     1,     1], type =    f16, converting to iq3_s .. size =     8.00 MiB ->     1.72 MiB\n",
      "[ 100/ 147]                  blk.4.attn_q.weight - [ 2048,  2048,     1,     1], type =    f16, converting to iq2_s .. size =     8.00 MiB ->     1.28 MiB\n",
      "[ 101/ 147]                  blk.4.attn_v.weight - [ 2048,   512,     1,     1], type =    f16, converting to q4_K .. size =     2.00 MiB ->     0.56 MiB\n",
      "[ 102/ 147]               blk.5.attn_norm.weight - [ 2048,     1,     1,     1], type =    f32, size =    0.008 MB\n",
      "[ 103/ 147]                blk.5.ffn_down.weight - [ 8192,  2048,     1,     1], type =    f16, converting to iq3_xxs .. size =    32.00 MiB ->     6.12 MiB\n",
      "[ 104/ 147]                blk.5.ffn_gate.weight - [ 2048,  8192,     1,     1], type =    f16, converting to iq3_xxs .. size =    32.00 MiB ->     6.12 MiB\n",
      "[ 105/ 147]                  blk.5.ffn_up.weight - [ 2048,  8192,     1,     1], type =    f16, converting to iq3_xxs .. size =    32.00 MiB ->     6.12 MiB\n",
      "[ 106/ 147]                blk.5.ffn_norm.weight - [ 2048,     1,     1,     1], type =    f32, size =    0.008 MB\n",
      "[ 107/ 147]                  blk.5.attn_k.weight - [ 2048,   512,     1,     1], type =    f16, converting to iq2_s .. size =     2.00 MiB ->     0.32 MiB\n",
      "[ 108/ 147]             blk.5.attn_output.weight - [ 2048,  2048,     1,     1], type =    f16, converting to iq3_s .. size =     8.00 MiB ->     1.72 MiB\n",
      "[ 109/ 147]                  blk.5.attn_q.weight - [ 2048,  2048,     1,     1], type =    f16, converting to iq2_s .. size =     8.00 MiB ->     1.28 MiB\n",
      "[ 110/ 147]                  blk.5.attn_v.weight - [ 2048,   512,     1,     1], type =    f16, converting to q4_K .. size =     2.00 MiB ->     0.56 MiB\n",
      "[ 111/ 147]               blk.6.attn_norm.weight - [ 2048,     1,     1,     1], type =    f32, size =    0.008 MB\n",
      "[ 112/ 147]                blk.6.ffn_down.weight - [ 8192,  2048,     1,     1], type =    f16, converting to iq3_xxs .. size =    32.00 MiB ->     6.12 MiB\n",
      "[ 113/ 147]                blk.6.ffn_gate.weight - [ 2048,  8192,     1,     1], type =    f16, converting to iq3_xxs .. size =    32.00 MiB ->     6.12 MiB\n",
      "[ 114/ 147]                  blk.6.ffn_up.weight - [ 2048,  8192,     1,     1], type =    f16, converting to iq3_xxs .. size =    32.00 MiB ->     6.12 MiB\n",
      "[ 115/ 147]                blk.6.ffn_norm.weight - [ 2048,     1,     1,     1], type =    f32, size =    0.008 MB\n",
      "[ 116/ 147]                  blk.6.attn_k.weight - [ 2048,   512,     1,     1], type =    f16, converting to iq2_s .. size =     2.00 MiB ->     0.32 MiB\n",
      "[ 117/ 147]             blk.6.attn_output.weight - [ 2048,  2048,     1,     1], type =    f16, converting to iq3_s .. size =     8.00 MiB ->     1.72 MiB\n",
      "[ 118/ 147]                  blk.6.attn_q.weight - [ 2048,  2048,     1,     1], type =    f16, converting to iq2_s .. size =     8.00 MiB ->     1.28 MiB\n",
      "[ 119/ 147]                  blk.6.attn_v.weight - [ 2048,   512,     1,     1], type =    f16, converting to q4_K .. size =     2.00 MiB ->     0.56 MiB\n",
      "[ 120/ 147]               blk.7.attn_norm.weight - [ 2048,     1,     1,     1], type =    f32, size =    0.008 MB\n",
      "[ 121/ 147]                blk.7.ffn_down.weight - [ 8192,  2048,     1,     1], type =    f16, converting to iq3_xxs .. size =    32.00 MiB ->     6.12 MiB\n",
      "[ 122/ 147]                blk.7.ffn_gate.weight - [ 2048,  8192,     1,     1], type =    f16, converting to iq3_xxs .. size =    32.00 MiB ->     6.12 MiB\n",
      "[ 123/ 147]                  blk.7.ffn_up.weight - [ 2048,  8192,     1,     1], type =    f16, converting to iq3_xxs .. size =    32.00 MiB ->     6.12 MiB\n",
      "[ 124/ 147]                blk.7.ffn_norm.weight - [ 2048,     1,     1,     1], type =    f32, size =    0.008 MB\n",
      "[ 125/ 147]                  blk.7.attn_k.weight - [ 2048,   512,     1,     1], type =    f16, converting to iq2_s .. size =     2.00 MiB ->     0.32 MiB\n",
      "[ 126/ 147]             blk.7.attn_output.weight - [ 2048,  2048,     1,     1], type =    f16, converting to iq3_s .. size =     8.00 MiB ->     1.72 MiB\n",
      "[ 127/ 147]                  blk.7.attn_q.weight - [ 2048,  2048,     1,     1], type =    f16, converting to iq2_s .. size =     8.00 MiB ->     1.28 MiB\n",
      "[ 128/ 147]                  blk.7.attn_v.weight - [ 2048,   512,     1,     1], type =    f16, converting to q4_K .. size =     2.00 MiB ->     0.56 MiB\n",
      "[ 129/ 147]               blk.8.attn_norm.weight - [ 2048,     1,     1,     1], type =    f32, size =    0.008 MB\n",
      "[ 130/ 147]                blk.8.ffn_down.weight - [ 8192,  2048,     1,     1], type =    f16, converting to iq3_xxs .. size =    32.00 MiB ->     6.12 MiB\n",
      "[ 131/ 147]                blk.8.ffn_gate.weight - [ 2048,  8192,     1,     1], type =    f16, converting to iq3_xxs .. size =    32.00 MiB ->     6.12 MiB\n",
      "[ 132/ 147]                  blk.8.ffn_up.weight - [ 2048,  8192,     1,     1], type =    f16, converting to iq3_xxs .. size =    32.00 MiB ->     6.12 MiB\n",
      "[ 133/ 147]                blk.8.ffn_norm.weight - [ 2048,     1,     1,     1], type =    f32, size =    0.008 MB\n",
      "[ 134/ 147]                  blk.8.attn_k.weight - [ 2048,   512,     1,     1], type =    f16, converting to iq2_s .. size =     2.00 MiB ->     0.32 MiB\n",
      "[ 135/ 147]             blk.8.attn_output.weight - [ 2048,  2048,     1,     1], type =    f16, converting to iq3_s .. size =     8.00 MiB ->     1.72 MiB\n",
      "[ 136/ 147]                  blk.8.attn_q.weight - [ 2048,  2048,     1,     1], type =    f16, converting to iq2_s .. size =     8.00 MiB ->     1.28 MiB\n",
      "[ 137/ 147]                  blk.8.attn_v.weight - [ 2048,   512,     1,     1], type =    f16, converting to q4_K .. size =     2.00 MiB ->     0.56 MiB\n",
      "[ 138/ 147]               blk.9.attn_norm.weight - [ 2048,     1,     1,     1], type =    f32, size =    0.008 MB\n",
      "[ 139/ 147]                blk.9.ffn_down.weight - [ 8192,  2048,     1,     1], type =    f16, converting to iq3_xxs .. size =    32.00 MiB ->     6.12 MiB\n",
      "[ 140/ 147]                blk.9.ffn_gate.weight - [ 2048,  8192,     1,     1], type =    f16, converting to iq3_xxs .. size =    32.00 MiB ->     6.12 MiB\n",
      "[ 141/ 147]                  blk.9.ffn_up.weight - [ 2048,  8192,     1,     1], type =    f16, converting to iq3_xxs .. size =    32.00 MiB ->     6.12 MiB\n",
      "[ 142/ 147]                blk.9.ffn_norm.weight - [ 2048,     1,     1,     1], type =    f32, size =    0.008 MB\n",
      "[ 143/ 147]                  blk.9.attn_k.weight - [ 2048,   512,     1,     1], type =    f16, converting to iq2_s .. size =     2.00 MiB ->     0.32 MiB\n",
      "[ 144/ 147]             blk.9.attn_output.weight - [ 2048,  2048,     1,     1], type =    f16, converting to iq3_s .. size =     8.00 MiB ->     1.72 MiB\n",
      "[ 145/ 147]                  blk.9.attn_q.weight - [ 2048,  2048,     1,     1], type =    f16, converting to iq2_s .. size =     8.00 MiB ->     1.28 MiB\n",
      "[ 146/ 147]                  blk.9.attn_v.weight - [ 2048,   512,     1,     1], type =    f16, converting to q4_K .. size =     2.00 MiB ->     0.56 MiB\n",
      "[ 147/ 147]                   output_norm.weight - [ 2048,     1,     1,     1], type =    f32, size =    0.008 MB\n",
      "llama_model_quantize_internal: model size  =  2357.26 MB\n",
      "llama_model_quantize_internal: quant size  =   528.60 MB\n"
     ]
    },
    {
     "name": "stdout",
     "output_type": "stream",
     "text": [
      "\n",
      "main: quantize time = 21860.65 ms\n",
      "main:    total time = 21860.65 ms\n"
     ]
    },
    {
     "data": {
      "text/plain": [
       "CompletedProcess(args=['/home/weiyijian/Desktop/LocalLlama/llama.cpp/cuda-build/bin/llama-quantize', '--imatrix', './Imatrix/LocalLlama-3.2-1B-Instruct.imatrix', './models/Llama-3.2-1B-Instruct-f16.gguf', './Quants_Results/Llama-3.2-1B-Local-iq3_xxs.gguf', 'iq3_xxs'], returncode=0)"
      ]
     },
     "execution_count": 31,
     "metadata": {},
     "output_type": "execute_result"
    }
   ],
   "source": [
    "#./quantize --imatrix imatrix_some_model.dat some_model quantized_model.gguf iq2_xxs\n",
    "subprocess.run([\n",
    "    '/home/weiyijian/Desktop/LocalLlama/llama.cpp/cuda-build/bin/llama-quantize',\n",
    "    #'/home/weiyijian/Desktop/llama.cpp/cuda-build/bin/llama-quantize',\n",
    "    '--imatrix', IMPath,\n",
    "    InPath,\n",
    "    Outpath,\n",
    "    size\n",
    "])"
   ]
  },
  {
   "cell_type": "code",
   "execution_count": null,
   "metadata": {},
   "outputs": [],
   "source": []
  }
 ],
 "metadata": {
  "kernelspec": {
   "display_name": "Python 3 (ipykernel)",
   "language": "python",
   "name": "python3"
  },
  "language_info": {
   "codemirror_mode": {
    "name": "ipython",
    "version": 3
   },
   "file_extension": ".py",
   "mimetype": "text/x-python",
   "name": "python",
   "nbconvert_exporter": "python",
   "pygments_lexer": "ipython3",
   "version": "3.12.6"
  }
 },
 "nbformat": 4,
 "nbformat_minor": 4
}
